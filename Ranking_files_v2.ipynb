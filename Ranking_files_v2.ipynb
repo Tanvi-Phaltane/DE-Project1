{
 "cells": [
  {
   "cell_type": "code",
   "execution_count": 1,
   "metadata": {},
   "outputs": [
    {
     "ename": "ModuleNotFoundError",
     "evalue": "No module named 'class_rank'",
     "output_type": "error",
     "traceback": [
      "\u001b[1;31m---------------------------------------------------------------------------\u001b[0m",
      "\u001b[1;31mModuleNotFoundError\u001b[0m                       Traceback (most recent call last)",
      "\u001b[1;32m<ipython-input-1-ed367c38ae74>\u001b[0m in \u001b[0;36m<module>\u001b[1;34m()\u001b[0m\n\u001b[0;32m      4\u001b[0m \u001b[1;32mimport\u001b[0m \u001b[0mcsv\u001b[0m\u001b[1;33m\u001b[0m\u001b[0m\n\u001b[0;32m      5\u001b[0m \u001b[1;32mimport\u001b[0m \u001b[0mpandas\u001b[0m \u001b[1;32mas\u001b[0m \u001b[0mpd\u001b[0m\u001b[1;33m\u001b[0m\u001b[0m\n\u001b[1;32m----> 6\u001b[1;33m \u001b[1;32mfrom\u001b[0m \u001b[0mclass_rank\u001b[0m \u001b[1;32mimport\u001b[0m \u001b[0mRank\u001b[0m\u001b[1;33m\u001b[0m\u001b[0m\n\u001b[0m\u001b[0;32m      7\u001b[0m \u001b[1;33m\u001b[0m\u001b[0m\n\u001b[0;32m      8\u001b[0m \u001b[1;32mdef\u001b[0m \u001b[0mget_path\u001b[0m\u001b[1;33m(\u001b[0m\u001b[0mkeys\u001b[0m\u001b[1;33m)\u001b[0m\u001b[1;33m:\u001b[0m\u001b[1;33m\u001b[0m\u001b[0m\n",
      "\u001b[1;31mModuleNotFoundError\u001b[0m: No module named 'class_rank'"
     ]
    }
   ],
   "source": [
    "import os\n",
    "import numpy as np\n",
    "import collections\n",
    "import csv\n",
    "import pandas as pd\n",
    "from class_rank import Rank\n",
    "\n",
    "def get_path(keys):\n",
    "    path = 'E:/DE/Sem2/AdvancedProject/bbdc_2019_Bewegungsdaten/'+ keys\n",
    "    return (path)\n",
    "\n",
    "def create_train_dict(file_type):\n",
    "    #print (\"in main\",file_type)\n",
    "    label_file=open('E:/DE/Sem2/AdvancedProject/bbdc_2019_Bewegungsdaten/' + file_type ,'r')\n",
    "    #print (label_file)\n",
    "    file_reader=csv.reader(label_file,delimiter=',')\n",
    "    train_dict={}\n",
    "    list_labels=[]\n",
    "    next(file_reader)\n",
    "    for line in file_reader:\n",
    "        datafile=line[1]\n",
    "        label=line[2]          # file label\n",
    "        key=datafile           #name of file\n",
    "        train_dict[key]=label\n",
    "        list_labels.append(train_dict[key])\n",
    "    return (train_dict,list_labels)\n",
    "\n",
    "        \n",
    "def main(i):\n",
    "    train_dict,train_labels=create_train_dict(i)\n",
    "    for keys in train_dict:       # keys = file name\n",
    "    #   print (keys)\n",
    "        path=get_path(keys)\n",
    "        #print (path)\n",
    "        f=pd.read_csv(r''+path)    # reading file\n",
    "        keys=keys.rstrip().split('.')\n",
    "        #out_name=str('-'.join(keys))\n",
    "        out_name=str(keys[0])\n",
    "        f_out=open('E:/DE/Sem2/AdvancedProject/Rank_files/rank_'+out_name+'_file.txt','w+')\n",
    "        for line in f:\n",
    "            line=line.rstrip().split(',')\n",
    "            #print (line)\n",
    "            ind=list(np.argsort(line))        # sorting list to get indices\n",
    "            #print (ind)\n",
    "            #print(type(ind))           # ind is an array\n",
    "            rank_dict={}                # creating a dictionary with key as no. and value as rank\n",
    "            freq_dict={}                # if duplicate nos than freq table\n",
    "            arr=np.array(line)          # converting line to array\n",
    "            min_no=np.min((arr).astype(np.float))          # minimum num in array\n",
    "            #Lx = nos. less than given no.\n",
    "            #Ix=no.of repetitive nos\n",
    "            #rank = Lx + 1/Ix(sum(i))\n",
    "            for i in range(len(arr)):\n",
    "                num=arr[i]\n",
    "                ob=Rank()\n",
    "                freq_dict2=ob.freq(num,freq_dict)\n",
    "                ix=ob.ix_fun(freq_dict2,num)\n",
    "                lx=ob.lx_fun(ind,arr,num,min_no,i)\n",
    "                rank_num=ob.rank_fun(lx,ix)\n",
    "                rank_dict[num]=rank_num\n",
    "                #print(num,rank_dict[num])\n",
    "                #f_out.write('{}-'.format(num))\n",
    "                f_out.write('{}\\t'.format(rank_dict[num]))\n",
    "            f_out.write('\\n')\n",
    "        f_out.close()\n",
    "\n",
    "file=['dummy_train2.csv'] #,'dummy_test2.csv'\n",
    "for i in (file):\n",
    "    main(i)\n",
    "    \n"
   ]
  },
  {
   "cell_type": "code",
   "execution_count": null,
   "metadata": {},
   "outputs": [],
   "source": []
  }
 ],
 "metadata": {
  "kernelspec": {
   "display_name": "Python 3",
   "language": "python",
   "name": "python3"
  },
  "language_info": {
   "codemirror_mode": {
    "name": "ipython",
    "version": 3
   },
   "file_extension": ".py",
   "mimetype": "text/x-python",
   "name": "python",
   "nbconvert_exporter": "python",
   "pygments_lexer": "ipython3",
   "version": "3.6.5"
  }
 },
 "nbformat": 4,
 "nbformat_minor": 2
}
